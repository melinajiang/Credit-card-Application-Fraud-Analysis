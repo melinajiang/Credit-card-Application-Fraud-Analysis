{
 "cells": [
  {
   "cell_type": "markdown",
   "metadata": {},
   "source": [
    "# 问题：\n",
    "1. 时间怎么计算，over 30 天，算不算record出现的这一天\n",
    "2. past day是同一天的两种情况，如何赋值，这个record第一次出现，这个record第二第三第四次出现\n",
    "\n",
    "# learning:\n",
    "1. copy 可以避免你一直跑data\n",
    "2. merge可以避免循环dataframe\n",
    "    -  循环比较可以把count做完"
   ]
  },
  {
   "cell_type": "code",
   "execution_count": 1,
   "metadata": {},
   "outputs": [],
   "source": [
    "import pandas as pd \n",
    "import numpy as np"
   ]
  },
  {
   "cell_type": "code",
   "execution_count": 2,
   "metadata": {},
   "outputs": [],
   "source": [
    "df = pd.read_csv(\"applications_data.csv\")"
   ]
  },
  {
   "cell_type": "code",
   "execution_count": 3,
   "metadata": {},
   "outputs": [],
   "source": [
    "l = df.columns"
   ]
  },
  {
   "cell_type": "code",
   "execution_count": 4,
   "metadata": {},
   "outputs": [],
   "source": [
    "for x in l:\n",
    "    df[x] = df[x].astype(str)"
   ]
  },
  {
   "cell_type": "code",
   "execution_count": 5,
   "metadata": {},
   "outputs": [],
   "source": [
    "df['zip5']=df['zip5'].apply(lambda x: '{0:0>5}'.format(x))"
   ]
  },
  {
   "cell_type": "code",
   "execution_count": 6,
   "metadata": {},
   "outputs": [
    {
     "data": {
      "text/html": [
       "<div>\n",
       "<style scoped>\n",
       "    .dataframe tbody tr th:only-of-type {\n",
       "        vertical-align: middle;\n",
       "    }\n",
       "\n",
       "    .dataframe tbody tr th {\n",
       "        vertical-align: top;\n",
       "    }\n",
       "\n",
       "    .dataframe thead th {\n",
       "        text-align: right;\n",
       "    }\n",
       "</style>\n",
       "<table border=\"1\" class=\"dataframe\">\n",
       "  <thead>\n",
       "    <tr style=\"text-align: right;\">\n",
       "      <th></th>\n",
       "      <th>record</th>\n",
       "      <th>date</th>\n",
       "      <th>ssn</th>\n",
       "      <th>firstname</th>\n",
       "      <th>lastname</th>\n",
       "      <th>address</th>\n",
       "      <th>zip5</th>\n",
       "      <th>dob</th>\n",
       "      <th>homephone</th>\n",
       "      <th>fraud_label</th>\n",
       "    </tr>\n",
       "  </thead>\n",
       "  <tbody>\n",
       "    <tr>\n",
       "      <th>0</th>\n",
       "      <td>1</td>\n",
       "      <td>20160101</td>\n",
       "      <td>379070012</td>\n",
       "      <td>XRRAMMTR</td>\n",
       "      <td>SMJETJMJ</td>\n",
       "      <td>6861 EUTST PL</td>\n",
       "      <td>02765</td>\n",
       "      <td>19070626</td>\n",
       "      <td>1797504115</td>\n",
       "      <td>0</td>\n",
       "    </tr>\n",
       "    <tr>\n",
       "      <th>1</th>\n",
       "      <td>2</td>\n",
       "      <td>20160101</td>\n",
       "      <td>387482503</td>\n",
       "      <td>MAMSTUJR</td>\n",
       "      <td>RTTEMRRR</td>\n",
       "      <td>7280 URASA PL</td>\n",
       "      <td>57169</td>\n",
       "      <td>19340615</td>\n",
       "      <td>4164239415</td>\n",
       "      <td>1</td>\n",
       "    </tr>\n",
       "    <tr>\n",
       "      <th>2</th>\n",
       "      <td>3</td>\n",
       "      <td>20160101</td>\n",
       "      <td>200332444</td>\n",
       "      <td>SZMMUJEZS</td>\n",
       "      <td>EUSEZRAE</td>\n",
       "      <td>5581 RSREX LN</td>\n",
       "      <td>56721</td>\n",
       "      <td>19070626</td>\n",
       "      <td>216537580</td>\n",
       "      <td>0</td>\n",
       "    </tr>\n",
       "    <tr>\n",
       "      <th>3</th>\n",
       "      <td>4</td>\n",
       "      <td>20160101</td>\n",
       "      <td>747451317</td>\n",
       "      <td>SJJZSXRSZ</td>\n",
       "      <td>ETJXTXXS</td>\n",
       "      <td>1387 UJZXJ RD</td>\n",
       "      <td>35286</td>\n",
       "      <td>19440430</td>\n",
       "      <td>132144161</td>\n",
       "      <td>0</td>\n",
       "    </tr>\n",
       "    <tr>\n",
       "      <th>4</th>\n",
       "      <td>5</td>\n",
       "      <td>20160101</td>\n",
       "      <td>24065868</td>\n",
       "      <td>SSSXUEJMS</td>\n",
       "      <td>SSUUJXUZ</td>\n",
       "      <td>279 EAASA WY</td>\n",
       "      <td>03173</td>\n",
       "      <td>19980315</td>\n",
       "      <td>6101082272</td>\n",
       "      <td>0</td>\n",
       "    </tr>\n",
       "  </tbody>\n",
       "</table>\n",
       "</div>"
      ],
      "text/plain": [
       "  record      date        ssn  firstname  lastname        address   zip5  \\\n",
       "0      1  20160101  379070012   XRRAMMTR  SMJETJMJ  6861 EUTST PL  02765   \n",
       "1      2  20160101  387482503   MAMSTUJR  RTTEMRRR  7280 URASA PL  57169   \n",
       "2      3  20160101  200332444  SZMMUJEZS  EUSEZRAE  5581 RSREX LN  56721   \n",
       "3      4  20160101  747451317  SJJZSXRSZ  ETJXTXXS  1387 UJZXJ RD  35286   \n",
       "4      5  20160101   24065868  SSSXUEJMS  SSUUJXUZ   279 EAASA WY  03173   \n",
       "\n",
       "        dob   homephone fraud_label  \n",
       "0  19070626  1797504115           0  \n",
       "1  19340615  4164239415           1  \n",
       "2  19070626   216537580           0  \n",
       "3  19440430   132144161           0  \n",
       "4  19980315  6101082272           0  "
      ]
     },
     "execution_count": 6,
     "metadata": {},
     "output_type": "execute_result"
    }
   ],
   "source": [
    "df.head()"
   ]
  },
  {
   "cell_type": "code",
   "execution_count": 7,
   "metadata": {},
   "outputs": [
    {
     "data": {
      "text/html": [
       "<div>\n",
       "<style scoped>\n",
       "    .dataframe tbody tr th:only-of-type {\n",
       "        vertical-align: middle;\n",
       "    }\n",
       "\n",
       "    .dataframe tbody tr th {\n",
       "        vertical-align: top;\n",
       "    }\n",
       "\n",
       "    .dataframe thead th {\n",
       "        text-align: right;\n",
       "    }\n",
       "</style>\n",
       "<table border=\"1\" class=\"dataframe\">\n",
       "  <thead>\n",
       "    <tr style=\"text-align: right;\">\n",
       "      <th></th>\n",
       "      <th>record</th>\n",
       "      <th>date</th>\n",
       "      <th>ssn</th>\n",
       "      <th>firstname</th>\n",
       "      <th>lastname</th>\n",
       "      <th>address</th>\n",
       "      <th>zip5</th>\n",
       "      <th>dob</th>\n",
       "      <th>homephone</th>\n",
       "      <th>fraud_label</th>\n",
       "    </tr>\n",
       "  </thead>\n",
       "  <tbody>\n",
       "    <tr>\n",
       "      <th>count</th>\n",
       "      <td>1000000</td>\n",
       "      <td>1000000</td>\n",
       "      <td>1000000</td>\n",
       "      <td>1000000</td>\n",
       "      <td>1000000</td>\n",
       "      <td>1000000</td>\n",
       "      <td>1000000</td>\n",
       "      <td>1000000</td>\n",
       "      <td>1000000</td>\n",
       "      <td>1000000</td>\n",
       "    </tr>\n",
       "    <tr>\n",
       "      <th>unique</th>\n",
       "      <td>1000000</td>\n",
       "      <td>365</td>\n",
       "      <td>835819</td>\n",
       "      <td>78136</td>\n",
       "      <td>177001</td>\n",
       "      <td>828774</td>\n",
       "      <td>26370</td>\n",
       "      <td>42673</td>\n",
       "      <td>28244</td>\n",
       "      <td>2</td>\n",
       "    </tr>\n",
       "    <tr>\n",
       "      <th>top</th>\n",
       "      <td>119304</td>\n",
       "      <td>20160816</td>\n",
       "      <td>999999999</td>\n",
       "      <td>EAMSTRMT</td>\n",
       "      <td>ERJSAXA</td>\n",
       "      <td>123 MAIN ST</td>\n",
       "      <td>68138</td>\n",
       "      <td>19070626</td>\n",
       "      <td>9999999999</td>\n",
       "      <td>0</td>\n",
       "    </tr>\n",
       "    <tr>\n",
       "      <th>freq</th>\n",
       "      <td>1</td>\n",
       "      <td>2877</td>\n",
       "      <td>16935</td>\n",
       "      <td>12658</td>\n",
       "      <td>8580</td>\n",
       "      <td>1079</td>\n",
       "      <td>823</td>\n",
       "      <td>126568</td>\n",
       "      <td>78512</td>\n",
       "      <td>985607</td>\n",
       "    </tr>\n",
       "  </tbody>\n",
       "</table>\n",
       "</div>"
      ],
      "text/plain": [
       "         record      date        ssn firstname lastname      address     zip5  \\\n",
       "count   1000000   1000000    1000000   1000000  1000000      1000000  1000000   \n",
       "unique  1000000       365     835819     78136   177001       828774    26370   \n",
       "top      119304  20160816  999999999  EAMSTRMT  ERJSAXA  123 MAIN ST    68138   \n",
       "freq          1      2877      16935     12658     8580         1079      823   \n",
       "\n",
       "             dob   homephone fraud_label  \n",
       "count    1000000     1000000     1000000  \n",
       "unique     42673       28244           2  \n",
       "top     19070626  9999999999           0  \n",
       "freq      126568       78512      985607  "
      ]
     },
     "execution_count": 7,
     "metadata": {},
     "output_type": "execute_result"
    }
   ],
   "source": [
    "# see the mis-filled values for the miscount\n",
    "df.describe()"
   ]
  },
  {
   "cell_type": "code",
   "execution_count": 8,
   "metadata": {},
   "outputs": [],
   "source": [
    "df[\"ssn\"].replace(\"9999999999\",np.nan,inplace=True)"
   ]
  },
  {
   "cell_type": "code",
   "execution_count": 9,
   "metadata": {},
   "outputs": [],
   "source": [
    "df['homephone'].replace('9999999999',np.nan,inplace=True)\n",
    "df['address'].replace('123 MAIN ST',np.nan,inplace=True)\n",
    "df['dob'].replace('19070626',np.nan,inplace=True)"
   ]
  },
  {
   "cell_type": "code",
   "execution_count": 10,
   "metadata": {},
   "outputs": [],
   "source": [
    "df['ssn'] = df[\"ssn\"].fillna(df[\"record\"])\n",
    "df['homephone'] = df['homephone'].fillna(df['record'])\n",
    "df['address'] = df['address'].fillna(df['record'])\n",
    "df['dob'] = df['dob'].fillna(df['record'])"
   ]
  },
  {
   "cell_type": "code",
   "execution_count": 11,
   "metadata": {},
   "outputs": [],
   "source": [
    "# change the date column into the data type\n",
    "df[\"date\"] = df[\"date\"].astype(\"int\")\n",
    "df['appyear'] = (df['date'] / 10000).astype('int')\n",
    "df['appmonth'] = ((df['date'] - df['appyear'] * 10000) / 100).astype('int')\n",
    "df['appday'] = df['date'] - df['appyear'] * 10000 - df['appmonth'] * 100\n",
    "df['date'] = pd.to_datetime(df.appyear*10000+df.appmonth*100+df.appday,format='%Y%m%d')\n",
    "df = df.drop(columns = ['appyear','appmonth','appday'])"
   ]
  },
  {
   "cell_type": "markdown",
   "metadata": {},
   "source": [
    "## 1. Build Entities\n",
    "we tried to create as much as entities as possible, so we two two join almost all the field as possible, and we three three three join almost all the field as possible"
   ]
  },
  {
   "cell_type": "code",
   "execution_count": 12,
   "metadata": {},
   "outputs": [],
   "source": [
    "df[\"name\"] = df[\"firstname\"] + df[\"lastname\"]"
   ]
  },
  {
   "cell_type": "code",
   "execution_count": 13,
   "metadata": {},
   "outputs": [],
   "source": [
    "coblist = [\"ssn\",\"dob\",\"address\",'homephone' ,'name','zip5']"
   ]
  },
  {
   "cell_type": "code",
   "execution_count": 14,
   "metadata": {},
   "outputs": [
    {
     "data": {
      "text/plain": [
       "6"
      ]
     },
     "execution_count": 14,
     "metadata": {},
     "output_type": "execute_result"
    }
   ],
   "source": [
    "len(coblist)"
   ]
  },
  {
   "cell_type": "code",
   "execution_count": 15,
   "metadata": {},
   "outputs": [],
   "source": [
    "for i in range(len(coblist)):\n",
    "    for j in range(len(coblist)):\n",
    "        if i<j:\n",
    "            new_col = coblist[i] + coblist[j]\n",
    "            df[new_col] = df[coblist[i]] + df[coblist[j]]"
   ]
  },
  {
   "cell_type": "code",
   "execution_count": 16,
   "metadata": {},
   "outputs": [],
   "source": [
    "for i in range(len(coblist)):\n",
    "    for j in range(len(coblist)):\n",
    "        for k in range(len(coblist)):\n",
    "            if i<j<k:\n",
    "                new_col = coblist[i] + coblist[j] + coblist[k]\n",
    "                df[new_col] = df[coblist[i]] + df[coblist[j]] + df[coblist[k]]"
   ]
  },
  {
   "cell_type": "code",
   "execution_count": 17,
   "metadata": {},
   "outputs": [],
   "source": [
    "df['name-ssn-homephone-dob-address-zip5'] = df['name'] +df['ssn'] + df['homephone']+ df['dob'] + df['address'] + df['zip5']\n",
    "df['name-ssn-homephone-dob'] = df['name'] +df['ssn'] + df['homephone'] + df['dob'] \n",
    "df['name-ssn-address-zip5'] = df['name'] +df['ssn'] + df['address'] + df['zip5'] "
   ]
  },
  {
   "cell_type": "markdown",
   "metadata": {},
   "source": [
    "## 2. Calculating count days \n"
   ]
  },
  {
   "cell_type": "code",
   "execution_count": 18,
   "metadata": {},
   "outputs": [],
   "source": [
    "attributes = list(df.columns)"
   ]
  },
  {
   "cell_type": "code",
   "execution_count": 19,
   "metadata": {},
   "outputs": [],
   "source": [
    "attributes.remove('fraud_label')\n",
    "attributes.remove('date')\n",
    "attributes.remove('zip5')\n",
    "attributes.remove('firstname')\n",
    "attributes.remove('lastname')\n",
    "attributes.remove('dob')\n",
    "attributes.remove('record')"
   ]
  },
  {
   "cell_type": "code",
   "execution_count": 20,
   "metadata": {},
   "outputs": [
    {
     "data": {
      "text/plain": [
       "['ssn',\n",
       " 'address',\n",
       " 'homephone',\n",
       " 'name',\n",
       " 'ssndob',\n",
       " 'ssnaddress',\n",
       " 'ssnhomephone',\n",
       " 'ssnname',\n",
       " 'ssnzip5',\n",
       " 'dobaddress',\n",
       " 'dobhomephone',\n",
       " 'dobname',\n",
       " 'dobzip5',\n",
       " 'addresshomephone',\n",
       " 'addressname',\n",
       " 'addresszip5',\n",
       " 'homephonename',\n",
       " 'homephonezip5',\n",
       " 'namezip5',\n",
       " 'ssndobaddress',\n",
       " 'ssndobhomephone',\n",
       " 'ssndobname',\n",
       " 'ssndobzip5',\n",
       " 'ssnaddresshomephone',\n",
       " 'ssnaddressname',\n",
       " 'ssnaddresszip5',\n",
       " 'ssnhomephonename',\n",
       " 'ssnhomephonezip5',\n",
       " 'ssnnamezip5',\n",
       " 'dobaddresshomephone',\n",
       " 'dobaddressname',\n",
       " 'dobaddresszip5',\n",
       " 'dobhomephonename',\n",
       " 'dobhomephonezip5',\n",
       " 'dobnamezip5',\n",
       " 'addresshomephonename',\n",
       " 'addresshomephonezip5',\n",
       " 'addressnamezip5',\n",
       " 'homephonenamezip5',\n",
       " 'name-ssn-homephone-dob-address-zip5',\n",
       " 'name-ssn-homephone-dob',\n",
       " 'name-ssn-address-zip5']"
      ]
     },
     "execution_count": 20,
     "metadata": {},
     "output_type": "execute_result"
    }
   ],
   "source": [
    "attributes"
   ]
  },
  {
   "cell_type": "code",
   "execution_count": 21,
   "metadata": {},
   "outputs": [
    {
     "data": {
      "text/plain": [
       "42"
      ]
     },
     "execution_count": 21,
     "metadata": {},
     "output_type": "execute_result"
    }
   ],
   "source": [
    "len(attributes)"
   ]
  },
  {
   "cell_type": "markdown",
   "metadata": {},
   "source": [
    "## 3. Counting pastdays\n"
   ]
  },
  {
   "cell_type": "code",
   "execution_count": 22,
   "metadata": {},
   "outputs": [],
   "source": [
    "# pastday 是一个只有index的df\n",
    "pastday = df[['record']].set_index('record').copy()"
   ]
  },
  {
   "cell_type": "code",
   "execution_count": 23,
   "metadata": {},
   "outputs": [
    {
     "data": {
      "text/html": [
       "<div>\n",
       "<style scoped>\n",
       "    .dataframe tbody tr th:only-of-type {\n",
       "        vertical-align: middle;\n",
       "    }\n",
       "\n",
       "    .dataframe tbody tr th {\n",
       "        vertical-align: top;\n",
       "    }\n",
       "\n",
       "    .dataframe thead th {\n",
       "        text-align: right;\n",
       "    }\n",
       "</style>\n",
       "<table border=\"1\" class=\"dataframe\">\n",
       "  <thead>\n",
       "    <tr style=\"text-align: right;\">\n",
       "      <th></th>\n",
       "    </tr>\n",
       "    <tr>\n",
       "      <th>record</th>\n",
       "    </tr>\n",
       "  </thead>\n",
       "  <tbody>\n",
       "    <tr>\n",
       "      <th>1</th>\n",
       "    </tr>\n",
       "    <tr>\n",
       "      <th>2</th>\n",
       "    </tr>\n",
       "    <tr>\n",
       "      <th>3</th>\n",
       "    </tr>\n",
       "    <tr>\n",
       "      <th>4</th>\n",
       "    </tr>\n",
       "    <tr>\n",
       "      <th>5</th>\n",
       "    </tr>\n",
       "  </tbody>\n",
       "</table>\n",
       "</div>"
      ],
      "text/plain": [
       "Empty DataFrame\n",
       "Columns: []\n",
       "Index: [1, 2, 3, 4, 5]"
      ]
     },
     "execution_count": 23,
     "metadata": {},
     "output_type": "execute_result"
    }
   ],
   "source": [
    "pastday.head()"
   ]
  },
  {
   "cell_type": "code",
   "execution_count": 24,
   "metadata": {},
   "outputs": [
    {
     "name": "stderr",
     "output_type": "stream",
     "text": [
      "//anaconda3/lib/python3.7/site-packages/pandas/core/generic.py:5208: SettingWithCopyWarning: \n",
      "A value is trying to be set on a copy of a slice from a DataFrame.\n",
      "Try using .loc[row_indexer,col_indexer] = value instead\n",
      "\n",
      "See the caveats in the documentation: http://pandas.pydata.org/pandas-docs/stable/user_guide/indexing.html#returning-a-view-versus-a-copy\n",
      "  self[name] = value\n"
     ]
    }
   ],
   "source": [
    "# for entity in attributes:\n",
    "entity = \"ssn\"\n",
    "data1 = df[['record','date',entity]]\n",
    "data2 = df[['record','date',entity]]\n",
    "data1.record = data1.record.astype(int)\n",
    "data2.record = data2.record.astype(int)\n",
    "tempdf = pd.merge(data1,data2, left_on = entity, right_on = entity)\n",
    "tempdf = tempdf[tempdf['record_x'] > tempdf['record_y']] # merge自动加入_x, _y命名\n",
    "new_col = entity+'_' +'pastday'\n",
    "tempdf[new_col] = tempdf['date_x'] - tempdf['date_y']\n",
    "tempdf[new_col] = tempdf[new_col].astype('timedelta64[D]')\n",
    "\n"
   ]
  },
  {
   "cell_type": "code",
   "execution_count": 25,
   "metadata": {},
   "outputs": [
    {
     "data": {
      "text/html": [
       "<div>\n",
       "<style scoped>\n",
       "    .dataframe tbody tr th:only-of-type {\n",
       "        vertical-align: middle;\n",
       "    }\n",
       "\n",
       "    .dataframe tbody tr th {\n",
       "        vertical-align: top;\n",
       "    }\n",
       "\n",
       "    .dataframe thead th {\n",
       "        text-align: right;\n",
       "    }\n",
       "</style>\n",
       "<table border=\"1\" class=\"dataframe\">\n",
       "  <thead>\n",
       "    <tr style=\"text-align: right;\">\n",
       "      <th></th>\n",
       "      <th>record_x</th>\n",
       "      <th>date_x</th>\n",
       "      <th>ssn</th>\n",
       "      <th>record_y</th>\n",
       "      <th>date_y</th>\n",
       "      <th>ssn_pastday</th>\n",
       "    </tr>\n",
       "  </thead>\n",
       "  <tbody>\n",
       "    <tr>\n",
       "      <th>4</th>\n",
       "      <td>606381</td>\n",
       "      <td>2016-08-10</td>\n",
       "      <td>387482503</td>\n",
       "      <td>2</td>\n",
       "      <td>2016-01-01</td>\n",
       "      <td>222.0</td>\n",
       "    </tr>\n",
       "    <tr>\n",
       "      <th>7</th>\n",
       "      <td>743271</td>\n",
       "      <td>2016-09-29</td>\n",
       "      <td>387482503</td>\n",
       "      <td>2</td>\n",
       "      <td>2016-01-01</td>\n",
       "      <td>272.0</td>\n",
       "    </tr>\n",
       "    <tr>\n",
       "      <th>8</th>\n",
       "      <td>743271</td>\n",
       "      <td>2016-09-29</td>\n",
       "      <td>387482503</td>\n",
       "      <td>606381</td>\n",
       "      <td>2016-08-10</td>\n",
       "      <td>50.0</td>\n",
       "    </tr>\n",
       "    <tr>\n",
       "      <th>14</th>\n",
       "      <td>765456</td>\n",
       "      <td>2016-10-07</td>\n",
       "      <td>24065868</td>\n",
       "      <td>5</td>\n",
       "      <td>2016-01-01</td>\n",
       "      <td>280.0</td>\n",
       "    </tr>\n",
       "    <tr>\n",
       "      <th>19</th>\n",
       "      <td>200178</td>\n",
       "      <td>2016-03-14</td>\n",
       "      <td>415812149</td>\n",
       "      <td>7</td>\n",
       "      <td>2016-01-01</td>\n",
       "      <td>73.0</td>\n",
       "    </tr>\n",
       "  </tbody>\n",
       "</table>\n",
       "</div>"
      ],
      "text/plain": [
       "    record_x     date_x        ssn  record_y     date_y  ssn_pastday\n",
       "4     606381 2016-08-10  387482503         2 2016-01-01        222.0\n",
       "7     743271 2016-09-29  387482503         2 2016-01-01        272.0\n",
       "8     743271 2016-09-29  387482503    606381 2016-08-10         50.0\n",
       "14    765456 2016-10-07   24065868         5 2016-01-01        280.0\n",
       "19    200178 2016-03-14  415812149         7 2016-01-01         73.0"
      ]
     },
     "execution_count": 25,
     "metadata": {},
     "output_type": "execute_result"
    }
   ],
   "source": [
    "tempdf.head()"
   ]
  },
  {
   "cell_type": "code",
   "execution_count": 26,
   "metadata": {},
   "outputs": [
    {
     "name": "stderr",
     "output_type": "stream",
     "text": [
      "//anaconda3/lib/python3.7/site-packages/ipykernel_launcher.py:8: SettingWithCopyWarning: \n",
      "A value is trying to be set on a copy of a slice from a DataFrame.\n",
      "Try using .loc[row_indexer,col_indexer] = value instead\n",
      "\n",
      "See the caveats in the documentation: http://pandas.pydata.org/pandas-docs/stable/user_guide/indexing.html#returning-a-view-versus-a-copy\n",
      "  \n",
      "//anaconda3/lib/python3.7/site-packages/ipykernel_launcher.py:9: SettingWithCopyWarning: \n",
      "A value is trying to be set on a copy of a slice from a DataFrame.\n",
      "Try using .loc[row_indexer,col_indexer] = value instead\n",
      "\n",
      "See the caveats in the documentation: http://pandas.pydata.org/pandas-docs/stable/user_guide/indexing.html#returning-a-view-versus-a-copy\n",
      "  if __name__ == '__main__':\n",
      "//anaconda3/lib/python3.7/site-packages/ipykernel_launcher.py:10: SettingWithCopyWarning: \n",
      "A value is trying to be set on a copy of a slice from a DataFrame.\n",
      "Try using .loc[row_indexer,col_indexer] = value instead\n",
      "\n",
      "See the caveats in the documentation: http://pandas.pydata.org/pandas-docs/stable/user_guide/indexing.html#returning-a-view-versus-a-copy\n",
      "  # Remove the CWD from sys.path while we load stuff.\n",
      "//anaconda3/lib/python3.7/site-packages/ipykernel_launcher.py:11: SettingWithCopyWarning: \n",
      "A value is trying to be set on a copy of a slice from a DataFrame.\n",
      "Try using .loc[row_indexer,col_indexer] = value instead\n",
      "\n",
      "See the caveats in the documentation: http://pandas.pydata.org/pandas-docs/stable/user_guide/indexing.html#returning-a-view-versus-a-copy\n",
      "  # This is added back by InteractiveShellApp.init_path()\n"
     ]
    }
   ],
   "source": [
    "#只保留最近一次发生的pastday number, 每个record只保留一条\n",
    "tempday = tempdf.groupby('record_x').agg({new_col:'min'})\n",
    "tempday.index = tempday.index.rename('record')\n",
    "tempday.index = tempday.index.astype('str')\n",
    "\n",
    "#第一次发生的pastday值是离2015-12-31的值, 用fillna计算\n",
    "pastday = pd.merge(pastday, tempday, left_index = True, right_index = True, how = 'left')\n",
    "data1['initial_date'] = '2015-12-31'\n",
    "data1['initial_date'] = pd.to_datetime(data1['initial_date'])\n",
    "data1['filling'] = data1['date'] - data1['initial_date'] \n",
    "data1['filling'] = data1['filling'].astype('timedelta64[D]')\n",
    "data1 = data1.set_index('record')\n",
    "data1.index = data1.index.astype('str')\n",
    "pastday[new_col] = pastday[new_col].fillna(data1['filling'])"
   ]
  },
  {
   "cell_type": "code",
   "execution_count": 27,
   "metadata": {
    "scrolled": true
   },
   "outputs": [
    {
     "data": {
      "text/html": [
       "<div>\n",
       "<style scoped>\n",
       "    .dataframe tbody tr th:only-of-type {\n",
       "        vertical-align: middle;\n",
       "    }\n",
       "\n",
       "    .dataframe tbody tr th {\n",
       "        vertical-align: top;\n",
       "    }\n",
       "\n",
       "    .dataframe thead th {\n",
       "        text-align: right;\n",
       "    }\n",
       "</style>\n",
       "<table border=\"1\" class=\"dataframe\">\n",
       "  <thead>\n",
       "    <tr style=\"text-align: right;\">\n",
       "      <th></th>\n",
       "      <th>ssn_pastday</th>\n",
       "    </tr>\n",
       "    <tr>\n",
       "      <th>record</th>\n",
       "      <th></th>\n",
       "    </tr>\n",
       "  </thead>\n",
       "  <tbody>\n",
       "    <tr>\n",
       "      <th>23</th>\n",
       "      <td>NaN</td>\n",
       "    </tr>\n",
       "    <tr>\n",
       "      <th>65</th>\n",
       "      <td>NaN</td>\n",
       "    </tr>\n",
       "    <tr>\n",
       "      <th>69</th>\n",
       "      <td>NaN</td>\n",
       "    </tr>\n",
       "    <tr>\n",
       "      <th>75</th>\n",
       "      <td>NaN</td>\n",
       "    </tr>\n",
       "    <tr>\n",
       "      <th>284</th>\n",
       "      <td>NaN</td>\n",
       "    </tr>\n",
       "    <tr>\n",
       "      <th>...</th>\n",
       "      <td>...</td>\n",
       "    </tr>\n",
       "    <tr>\n",
       "      <th>999983</th>\n",
       "      <td>NaN</td>\n",
       "    </tr>\n",
       "    <tr>\n",
       "      <th>999984</th>\n",
       "      <td>NaN</td>\n",
       "    </tr>\n",
       "    <tr>\n",
       "      <th>999989</th>\n",
       "      <td>NaN</td>\n",
       "    </tr>\n",
       "    <tr>\n",
       "      <th>999993</th>\n",
       "      <td>NaN</td>\n",
       "    </tr>\n",
       "    <tr>\n",
       "      <th>1000000</th>\n",
       "      <td>NaN</td>\n",
       "    </tr>\n",
       "  </tbody>\n",
       "</table>\n",
       "<p>164181 rows × 1 columns</p>\n",
       "</div>"
      ],
      "text/plain": [
       "         ssn_pastday\n",
       "record              \n",
       "23               NaN\n",
       "65               NaN\n",
       "69               NaN\n",
       "75               NaN\n",
       "284              NaN\n",
       "...              ...\n",
       "999983           NaN\n",
       "999984           NaN\n",
       "999989           NaN\n",
       "999993           NaN\n",
       "1000000          NaN\n",
       "\n",
       "[164181 rows x 1 columns]"
      ]
     },
     "execution_count": 27,
     "metadata": {},
     "output_type": "execute_result"
    }
   ],
   "source": [
    "tempday[tempday.isnull()==True]"
   ]
  },
  {
   "cell_type": "markdown",
   "metadata": {},
   "source": [
    "## Count Velocity"
   ]
  },
  {
   "cell_type": "code",
   "execution_count": 28,
   "metadata": {},
   "outputs": [],
   "source": [
    "import datetime"
   ]
  },
  {
   "cell_type": "code",
   "execution_count": 29,
   "metadata": {},
   "outputs": [],
   "source": [
    "finaldf = df[['record']].set_index('record').copy()"
   ]
  },
  {
   "cell_type": "code",
   "execution_count": 30,
   "metadata": {},
   "outputs": [],
   "source": [
    "df['join_ts1'] = df['date']"
   ]
  },
  {
   "cell_type": "code",
   "execution_count": 31,
   "metadata": {},
   "outputs": [],
   "source": [
    "for t in [0,1,3,7,30,90,180]:\n",
    "    end_time = 'join_ts2_'+str(t)\n",
    "    df[end_time] = df['date'] + datetime.timedelta(t)"
   ]
  },
  {
   "cell_type": "code",
   "execution_count": 32,
   "metadata": {},
   "outputs": [],
   "source": [
    "data3 = df[['record','date', entity]]\n",
    "data4 = df[['join_ts1','join_ts2_0','join_ts2_1','join_ts2_3','join_ts2_7','join_ts2_30','join_ts2_90','join_ts2_180',entity,'record']]\n",
    "data3.record = data3.record.astype(int)\n",
    "data4.record = data4.record.astype(int)\n",
    "tempdf = pd.merge(data3,data4, left_on = entity, right_on = entity)\n",
    "# for t in [0,1,3,7,30,90,180]:\n",
    "#     name_end_time = 'join_ts2_' + str(t)\n",
    "#     tempdf2 = tempdf[(tempdf['date'] >= tempdf['join_ts1']) & (tempdf['date'] <= tempdf[name_end_time])& (tempdf['record_x']>=tempdf['record_y'])]\n",
    "#     temp_name = str(entity) + '_' + 'count' + str(t) + '_'\n",
    "#     tempGroupby = tempdf2[['record_x','date']].groupby('record_x')\n",
    "#     tempGroupby = getattr(tempGroupby, 'count')().add_prefix(temp_name)\n",
    "#     tempGroupby.index = tempGroupby.index.rename('record')\n",
    "#     tempGroupby.index = tempGroupby.index.astype('str')\n",
    "#     finaldf = pd.merge(finaldf, tempGroupby,left_index = True, right_index = True, how = 'left')"
   ]
  },
  {
   "cell_type": "code",
   "execution_count": null,
   "metadata": {},
   "outputs": [],
   "source": [
    "# 计算count方法1 ： 查看过去的值和现在值的距离是不是所关心的距离\n",
    "t=30\n",
    "name_end_time = 'join_ts2_' + str(t)\n",
    "tempdf2 = tempdf[(tempdf['date'] >= tempdf['join_ts1']) & (tempdf['date'] <= tempdf[name_end_time])& (tempdf['record_x']>=tempdf['record_y'])]\n",
    "temp_name = str(entity) + '_' + 'count' + str(t) + '_'\n",
    "tempGroupby = tempdf2[['record_x','date']].groupby('record_x')\n",
    "tempGroupby = getattr(tempGroupby, 'count')().add_prefix(temp_name)\n",
    "tempGroupby.index = tempGroupby.index.rename('record')\n",
    "tempGroupby.index = tempGroupby.index.astype('str')\n",
    "finaldf = pd.merge(finaldf, tempGroupby,left_index = True, right_index = True, how = 'left')"
   ]
  },
  {
   "cell_type": "code",
   "execution_count": null,
   "metadata": {},
   "outputs": [],
   "source": [
    "# 计算count方法2 ： 查看过去的值是不是在所关心的范围里\n"
   ]
  },
  {
   "cell_type": "code",
   "execution_count": null,
   "metadata": {},
   "outputs": [],
   "source": [
    "t=30\n",
    "range_high = tempdf['date']\n",
    "range_low = tempdf['date']-t\n",
    "tempdf2 = tempdf[(tempdf['join_ts1'] >= range_low) & (tempdf['date'] <= range_high)& (tempdf['record_x']>=tempdf['record_y'])]\n",
    "temp_name = str(entity) + '_' + 'count' + str(t) + '_'\n",
    "tempGroupby = tempdf2[['record_x','date']].groupby('record_x')\n",
    "# tempGroupby = getattr(tempGroupby, 'count')().add_prefix(temp_name)\n",
    "#等同于\n",
    "tempGroupby = tempGroupby.agg({'date':'count'})\n",
    "tempGroupby.index = tempGroupby.index.rename('record')\n",
    "tempGroupby.index = tempGroupby.index.astype('str')\n",
    "finaldf = pd.merge(finaldf, tempGroupby,left_index = True, right_index = True, how = 'left')"
   ]
  }
 ],
 "metadata": {
  "kernelspec": {
   "display_name": "Python 3",
   "language": "python",
   "name": "python3"
  },
  "language_info": {
   "codemirror_mode": {
    "name": "ipython",
    "version": 3
   },
   "file_extension": ".py",
   "mimetype": "text/x-python",
   "name": "python",
   "nbconvert_exporter": "python",
   "pygments_lexer": "ipython3",
   "version": "3.7.3"
  }
 },
 "nbformat": 4,
 "nbformat_minor": 2
}
